{
 "cells": [
  {
   "cell_type": "code",
   "execution_count": 1,
   "id": "9ad0af0a",
   "metadata": {},
   "outputs": [],
   "source": [
    "import pandas as pd\n"
   ]
  },
  {
   "cell_type": "code",
   "execution_count": 2,
   "id": "c58c13ac",
   "metadata": {},
   "outputs": [],
   "source": [
    "data = pd.read_csv('country_data.csv')\n"
   ]
  },
  {
   "cell_type": "code",
   "execution_count": 3,
   "id": "813ad8c9",
   "metadata": {},
   "outputs": [
    {
     "data": {
      "text/html": [
       "<div>\n",
       "<style scoped>\n",
       "    .dataframe tbody tr th:only-of-type {\n",
       "        vertical-align: middle;\n",
       "    }\n",
       "\n",
       "    .dataframe tbody tr th {\n",
       "        vertical-align: top;\n",
       "    }\n",
       "\n",
       "    .dataframe thead th {\n",
       "        text-align: right;\n",
       "    }\n",
       "</style>\n",
       "<table border=\"1\" class=\"dataframe\">\n",
       "  <thead>\n",
       "    <tr style=\"text-align: right;\">\n",
       "      <th></th>\n",
       "      <th>Country</th>\n",
       "      <th>Life Expectancy</th>\n",
       "      <th>GDP</th>\n",
       "    </tr>\n",
       "  </thead>\n",
       "  <tbody>\n",
       "    <tr>\n",
       "      <th>0</th>\n",
       "      <td>Afghanistan</td>\n",
       "      <td>58.19375</td>\n",
       "      <td>340.015425</td>\n",
       "    </tr>\n",
       "    <tr>\n",
       "      <th>1</th>\n",
       "      <td>Albania</td>\n",
       "      <td>75.15625</td>\n",
       "      <td>2119.726679</td>\n",
       "    </tr>\n",
       "    <tr>\n",
       "      <th>2</th>\n",
       "      <td>Algeria</td>\n",
       "      <td>73.61875</td>\n",
       "      <td>2847.853392</td>\n",
       "    </tr>\n",
       "    <tr>\n",
       "      <th>3</th>\n",
       "      <td>Angola</td>\n",
       "      <td>49.01875</td>\n",
       "      <td>1975.143045</td>\n",
       "    </tr>\n",
       "    <tr>\n",
       "      <th>4</th>\n",
       "      <td>Antigua and Barbuda</td>\n",
       "      <td>75.05625</td>\n",
       "      <td>9759.305728</td>\n",
       "    </tr>\n",
       "  </tbody>\n",
       "</table>\n",
       "</div>"
      ],
      "text/plain": [
       "               Country  Life Expectancy          GDP\n",
       "0          Afghanistan         58.19375   340.015425\n",
       "1              Albania         75.15625  2119.726679\n",
       "2              Algeria         73.61875  2847.853392\n",
       "3               Angola         49.01875  1975.143045\n",
       "4  Antigua and Barbuda         75.05625  9759.305728"
      ]
     },
     "execution_count": 3,
     "metadata": {},
     "output_type": "execute_result"
    }
   ],
   "source": [
    "data.head()"
   ]
  },
  {
   "cell_type": "code",
   "execution_count": 4,
   "id": "d142ad99",
   "metadata": {},
   "outputs": [],
   "source": [
    "life_expectancy=data[\"Life Expectancy\"]"
   ]
  },
  {
   "cell_type": "code",
   "execution_count": 20,
   "id": "569ef1fe",
   "metadata": {},
   "outputs": [
    {
     "data": {
      "text/plain": [
       "0      58.19375\n",
       "1      75.15625\n",
       "2      73.61875\n",
       "3      49.01875\n",
       "4      75.05625\n",
       "         ...   \n",
       "153    76.07500\n",
       "154    68.03125\n",
       "155    71.38750\n",
       "156    53.90625\n",
       "157    50.48750\n",
       "Name: Life Expectancy, Length: 158, dtype: float64"
      ]
     },
     "execution_count": 20,
     "metadata": {},
     "output_type": "execute_result"
    }
   ],
   "source": [
    "life_expectancy"
   ]
  },
  {
   "cell_type": "code",
   "execution_count": 13,
   "id": "a4c9a4f1",
   "metadata": {},
   "outputs": [
    {
     "data": {
      "text/plain": [
       "array([62.325    , 72.525    , 75.4421875])"
      ]
     },
     "execution_count": 13,
     "metadata": {},
     "output_type": "execute_result"
    }
   ],
   "source": [
    "import numpy as np\n",
    "# Find the quartiles of life expectancy\n",
    "life_expectancy_quartiles = np.quantile(life_expectancy, [0.25, 0.5, 0.75])\n",
    "\n",
    "life_expectancy_quartiles\n"
   ]
  },
  {
   "cell_type": "code",
   "execution_count": 18,
   "id": "35b60154",
   "metadata": {},
   "outputs": [
    {
     "data": {
      "image/png": "[encoded data removed]",
      "text/plain": [
       "<Figure size 640x480 with 1 Axes>"
      ]
     },
     "metadata": {},
     "output_type": "display_data"
    }
   ],
   "source": [
    "import matplotlib.pyplot as plt\n",
    "plt.hist(life_expectancy)\n",
    "plt.show()\n",
    "\n"
   ]
  },
  {
   "cell_type": "code",
   "execution_count": 36,
   "id": "1de9f174",
   "metadata": {},
   "outputs": [],
   "source": [
    "Gdp  = data[\"GDP\"]"
   ]
  },
  {
   "cell_type": "code",
   "execution_count": 37,
   "id": "20a607ef",
   "metadata": {},
   "outputs": [
    {
     "data": {
      "text/plain": [
       "0       340.015425\n",
       "1      2119.726679\n",
       "2      2847.853392\n",
       "3      1975.143045\n",
       "4      9759.305728\n",
       "          ...     \n",
       "153    7192.584875\n",
       "154     651.092359\n",
       "155    2000.245518\n",
       "156     811.811841\n",
       "157     410.980194\n",
       "Name: GDP, Length: 158, dtype: float64"
      ]
     },
     "execution_count": 37,
     "metadata": {},
     "output_type": "execute_result"
    }
   ],
   "source": [
    "Gdp"
   ]
  },
  {
   "cell_type": "code",
   "execution_count": 38,
   "id": "0aa5d967",
   "metadata": {},
   "outputs": [],
   "source": [
    "median =np.median(Gdp)     # we can use also quantile m ethod to find"
   ]
  },
  {
   "cell_type": "code",
   "execution_count": 39,
   "id": "fc1a663b",
   "metadata": {},
   "outputs": [
    {
     "data": {
      "text/plain": [
       "2938.0781155"
      ]
     },
     "execution_count": 39,
     "metadata": {},
     "output_type": "execute_result"
    }
   ],
   "source": [
    "median"
   ]
  },
  {
   "cell_type": "code",
   "execution_count": 40,
   "id": "e5f81021",
   "metadata": {},
   "outputs": [],
   "source": [
    "gdp_median = np.quantile( Gdp, [0.5])"
   ]
  },
  {
   "cell_type": "code",
   "execution_count": 41,
   "id": "957d70db",
   "metadata": {},
   "outputs": [
    {
     "data": {
      "text/plain": [
       "array([2938.0781155])"
      ]
     },
     "execution_count": 41,
     "metadata": {},
     "output_type": "execute_result"
    }
   ],
   "source": [
    "gdp_median"
   ]
  },
  {
   "cell_type": "code",
   "execution_count": 47,
   "id": "da04531b",
   "metadata": {},
   "outputs": [],
   "source": [
    "# Select rows with GDP less than or equal to the median\n",
    "low_gdp = data[data['GDP'] <= median_gdp]\n",
    "\n",
    "# Select rows with GDP higher than the median\n",
    "high_gdp = data[data['GDP'] > median_gdp]\n"
   ]
  },
  {
   "cell_type": "code",
   "execution_count": 48,
   "id": "534e7ca4",
   "metadata": {},
   "outputs": [
    {
     "data": {
      "text/html": [
       "<div>\n",
       "<style scoped>\n",
       "    .dataframe tbody tr th:only-of-type {\n",
       "        vertical-align: middle;\n",
       "    }\n",
       "\n",
       "    .dataframe tbody tr th {\n",
       "        vertical-align: top;\n",
       "    }\n",
       "\n",
       "    .dataframe thead th {\n",
       "        text-align: right;\n",
       "    }\n",
       "</style>\n",
       "<table border=\"1\" class=\"dataframe\">\n",
       "  <thead>\n",
       "    <tr style=\"text-align: right;\">\n",
       "      <th></th>\n",
       "      <th>Country</th>\n",
       "      <th>Life Expectancy</th>\n",
       "      <th>GDP</th>\n",
       "    </tr>\n",
       "  </thead>\n",
       "  <tbody>\n",
       "    <tr>\n",
       "      <th>0</th>\n",
       "      <td>Afghanistan</td>\n",
       "      <td>58.19375</td>\n",
       "      <td>340.015425</td>\n",
       "    </tr>\n",
       "    <tr>\n",
       "      <th>1</th>\n",
       "      <td>Albania</td>\n",
       "      <td>75.15625</td>\n",
       "      <td>2119.726679</td>\n",
       "    </tr>\n",
       "    <tr>\n",
       "      <th>2</th>\n",
       "      <td>Algeria</td>\n",
       "      <td>73.61875</td>\n",
       "      <td>2847.853392</td>\n",
       "    </tr>\n",
       "    <tr>\n",
       "      <th>3</th>\n",
       "      <td>Angola</td>\n",
       "      <td>49.01875</td>\n",
       "      <td>1975.143045</td>\n",
       "    </tr>\n",
       "    <tr>\n",
       "      <th>6</th>\n",
       "      <td>Armenia</td>\n",
       "      <td>73.40000</td>\n",
       "      <td>1999.986318</td>\n",
       "    </tr>\n",
       "    <tr>\n",
       "      <th>...</th>\n",
       "      <td>...</td>\n",
       "      <td>...</td>\n",
       "      <td>...</td>\n",
       "    </tr>\n",
       "    <tr>\n",
       "      <th>151</th>\n",
       "      <td>Ukraine</td>\n",
       "      <td>69.93750</td>\n",
       "      <td>1577.293329</td>\n",
       "    </tr>\n",
       "    <tr>\n",
       "      <th>154</th>\n",
       "      <td>Uzbekistan</td>\n",
       "      <td>68.03125</td>\n",
       "      <td>651.092359</td>\n",
       "    </tr>\n",
       "    <tr>\n",
       "      <th>155</th>\n",
       "      <td>Vanuatu</td>\n",
       "      <td>71.38750</td>\n",
       "      <td>2000.245518</td>\n",
       "    </tr>\n",
       "    <tr>\n",
       "      <th>156</th>\n",
       "      <td>Zambia</td>\n",
       "      <td>53.90625</td>\n",
       "      <td>811.811841</td>\n",
       "    </tr>\n",
       "    <tr>\n",
       "      <th>157</th>\n",
       "      <td>Zimbabwe</td>\n",
       "      <td>50.48750</td>\n",
       "      <td>410.980194</td>\n",
       "    </tr>\n",
       "  </tbody>\n",
       "</table>\n",
       "<p>79 rows × 3 columns</p>\n",
       "</div>"
      ],
      "text/plain": [
       "         Country  Life Expectancy          GDP\n",
       "0    Afghanistan         58.19375   340.015425\n",
       "1        Albania         75.15625  2119.726679\n",
       "2        Algeria         73.61875  2847.853392\n",
       "3         Angola         49.01875  1975.143045\n",
       "6        Armenia         73.40000  1999.986318\n",
       "..           ...              ...          ...\n",
       "151      Ukraine         69.93750  1577.293329\n",
       "154   Uzbekistan         68.03125   651.092359\n",
       "155      Vanuatu         71.38750  2000.245518\n",
       "156       Zambia         53.90625   811.811841\n",
       "157     Zimbabwe         50.48750   410.980194\n",
       "\n",
       "[79 rows x 3 columns]"
      ]
     },
     "execution_count": 48,
     "metadata": {},
     "output_type": "execute_result"
    }
   ],
   "source": [
    "low_gdp"
   ]
  },
  {
   "cell_type": "code",
   "execution_count": 59,
   "id": "29e6a50d",
   "metadata": {},
   "outputs": [
    {
     "data": {
      "text/html": [
       "<div>\n",
       "<style scoped>\n",
       "    .dataframe tbody tr th:only-of-type {\n",
       "        vertical-align: middle;\n",
       "    }\n",
       "\n",
       "    .dataframe tbody tr th {\n",
       "        vertical-align: top;\n",
       "    }\n",
       "\n",
       "    .dataframe thead th {\n",
       "        text-align: right;\n",
       "    }\n",
       "</style>\n",
       "<table border=\"1\" class=\"dataframe\">\n",
       "  <thead>\n",
       "    <tr style=\"text-align: right;\">\n",
       "      <th></th>\n",
       "      <th>Country</th>\n",
       "      <th>Life Expectancy</th>\n",
       "      <th>GDP</th>\n",
       "    </tr>\n",
       "  </thead>\n",
       "  <tbody>\n",
       "    <tr>\n",
       "      <th>4</th>\n",
       "      <td>Antigua and Barbuda</td>\n",
       "      <td>75.05625</td>\n",
       "      <td>9759.305728</td>\n",
       "    </tr>\n",
       "    <tr>\n",
       "      <th>5</th>\n",
       "      <td>Argentina</td>\n",
       "      <td>75.15625</td>\n",
       "      <td>6998.575103</td>\n",
       "    </tr>\n",
       "    <tr>\n",
       "      <th>7</th>\n",
       "      <td>Australia</td>\n",
       "      <td>81.81250</td>\n",
       "      <td>34637.565050</td>\n",
       "    </tr>\n",
       "    <tr>\n",
       "      <th>8</th>\n",
       "      <td>Austria</td>\n",
       "      <td>81.48125</td>\n",
       "      <td>33827.476310</td>\n",
       "    </tr>\n",
       "    <tr>\n",
       "      <th>9</th>\n",
       "      <td>Azerbaijan</td>\n",
       "      <td>70.73125</td>\n",
       "      <td>3302.947807</td>\n",
       "    </tr>\n",
       "    <tr>\n",
       "      <th>...</th>\n",
       "      <td>...</td>\n",
       "      <td>...</td>\n",
       "      <td>...</td>\n",
       "    </tr>\n",
       "    <tr>\n",
       "      <th>146</th>\n",
       "      <td>Trinidad and Tobago</td>\n",
       "      <td>71.06875</td>\n",
       "      <td>7741.748090</td>\n",
       "    </tr>\n",
       "    <tr>\n",
       "      <th>147</th>\n",
       "      <td>Tunisia</td>\n",
       "      <td>74.35625</td>\n",
       "      <td>3044.081488</td>\n",
       "    </tr>\n",
       "    <tr>\n",
       "      <th>148</th>\n",
       "      <td>Turkey</td>\n",
       "      <td>73.91250</td>\n",
       "      <td>3983.917722</td>\n",
       "    </tr>\n",
       "    <tr>\n",
       "      <th>152</th>\n",
       "      <td>United Arab Emirates</td>\n",
       "      <td>75.70000</td>\n",
       "      <td>22110.366990</td>\n",
       "    </tr>\n",
       "    <tr>\n",
       "      <th>153</th>\n",
       "      <td>Uruguay</td>\n",
       "      <td>76.07500</td>\n",
       "      <td>7192.584875</td>\n",
       "    </tr>\n",
       "  </tbody>\n",
       "</table>\n",
       "<p>79 rows × 3 columns</p>\n",
       "</div>"
      ],
      "text/plain": [
       "                  Country  Life Expectancy           GDP\n",
       "4     Antigua and Barbuda         75.05625   9759.305728\n",
       "5               Argentina         75.15625   6998.575103\n",
       "7               Australia         81.81250  34637.565050\n",
       "8                 Austria         81.48125  33827.476310\n",
       "9              Azerbaijan         70.73125   3302.947807\n",
       "..                    ...              ...           ...\n",
       "146   Trinidad and Tobago         71.06875   7741.748090\n",
       "147               Tunisia         74.35625   3044.081488\n",
       "148                Turkey         73.91250   3983.917722\n",
       "152  United Arab Emirates         75.70000  22110.366990\n",
       "153               Uruguay         76.07500   7192.584875\n",
       "\n",
       "[79 rows x 3 columns]"
      ]
     },
     "execution_count": 59,
     "metadata": {},
     "output_type": "execute_result"
    }
   ],
   "source": [
    "high_gdp"
   ]
  },
  {
   "cell_type": "code",
   "execution_count": 60,
   "id": "8cbe12ed",
   "metadata": {},
   "outputs": [
    {
     "name": "stdout",
     "output_type": "stream",
     "text": [
      "[56.3375  64.34375 71.7375 ]\n"
     ]
    }
   ],
   "source": [
    "# Find the quartiles of the life expectancy for low GDP countries\n",
    "low_gdp_quartiles = np.quantile(low_gdp[\"Life Expectancy\"], [0.25, 0.5, 0.75])\n",
    "\n",
    "# Print the quartiles for low GDP countries\n",
    "print(low_gdp_quartiles)\n"
   ]
  },
  {
   "cell_type": "code",
   "execution_count": 68,
   "id": "3a156ff8",
   "metadata": {},
   "outputs": [
    {
     "name": "stdout",
     "output_type": "stream",
     "text": [
      "[72.965625 75.15625  80.521875]\n"
     ]
    }
   ],
   "source": [
    "# Find the quartiles of the life expectancy for high GDP countries\n",
    "high_gdp_quartiles = np.quantile(high_gdp[\"Life Expectancy\"], [0.25, 0.5, 0.75])\n",
    "\n",
    "# Print the quartiles for high GDP countries\n",
    "print(high_gdp_quartiles)\n"
   ]
  },
  {
   "cell_type": "code",
   "execution_count": 73,
   "id": "548a53e2",
   "metadata": {},
   "outputs": [
    {
     "data": {
      "image/png": "[encoded data removed]",
      "text/plain": [
       "<Figure size 640x480 with 1 Axes>"
      ]
     },
     "metadata": {},
     "output_type": "display_data"
    }
   ],
   "source": [
    "import matplotlib.pyplot as plt\n",
    "\n",
    "# Plot histogram for high GDP countries\n",
    "plt.hist(high_gdp[\"Life Expectancy\"], alpha=0.5, label=\"High GDP\")\n",
    "\n",
    "# Plot histogram for low GDP countries\n",
    "plt.hist(low_gdp[\"Life Expectancy\"], alpha=0.5, label=\"Low GDP\")\n",
    "\n",
    "# Add legend\n",
    "plt.legend()    \n",
    "\n",
    "# Show the plot\n",
    "plt.show()\n"
   ]
  },
  {
   "cell_type": "code",
   "execution_count": null,
   "id": "4fac33c4",
   "metadata": {},
   "outputs": [],
   "source": []
  }
 ],
 "metadata": {
  "kernelspec": {
   "display_name": "Python 3 (ipykernel)",
   "language": "python",
   "name": "python3"
  },
  "language_info": {
   "codemirror_mode": {
    "name": "ipython",
    "version": 3
   },
   "file_extension": ".py",
   "mimetype": "text/x-python",
   "name": "python",
   "nbconvert_exporter": "python",
   "pygments_lexer": "ipython3",
   "version": "3.10.9"
  }
 },
 "nbformat": 4,
 "nbformat_minor": 5
}
